{
 "cells": [
  {
   "cell_type": "markdown",
   "metadata": {},
   "source": [
    "# Audio 녹음하기"
   ]
  },
  {
   "cell_type": "code",
   "execution_count": null,
   "metadata": {},
   "outputs": [],
   "source": [
    "import shutil\n",
    "import os"
   ]
  },
  {
   "cell_type": "code",
   "execution_count": null,
   "metadata": {},
   "outputs": [],
   "source": [
    "import time\n",
    "import glob\n",
    "\n",
    "i=0\n",
    "path = './mimic-recording-studio/audio_files/e19edbd5-af33-0b61-330a-54c86aa8515f/*.txt'\n",
    "prev = glob.glob(path)\n",
    "while True:\n",
    "    time.sleep(1)\n",
    "    current = glob.glob(path)\n",
    "    idx = len(current)\n",
    "    now = list(set(current)-set(prev))\n",
    "    print(f'new : {now}', end='\\r')\n",
    "    if len(now):\n",
    "        name = now[0]\n",
    "        new_name = name[:-4]+f'_{idx}.txt'\n",
    "        current[-1] = new_name\n",
    "        prev=current\n",
    "        i = i+1"
   ]
  },
  {
   "cell_type": "markdown",
   "metadata": {},
   "source": [
    "# Audio 파일 하나로 합치기"
   ]
  },
  {
   "cell_type": "code",
   "execution_count": null,
   "metadata": {},
   "outputs": [],
   "source": [
    "txt_list = glob.glob(path)"
   ]
  },
  {
   "cell_type": "code",
   "execution_count": null,
   "metadata": {},
   "outputs": [],
   "source": [
    "with open(f\"{txt_list[0][:txt_list[0].find('metadata')+8]}.txt\", 'w', encoding='utf-8') as f:\n",
    "    for x in txt_list:\n",
    "        with open(x, 'r', encoding='utf-8') as r:\n",
    "            f.write(r.readline())"
   ]
  },
  {
   "cell_type": "markdown",
   "metadata": {},
   "source": [
    "# PC 바꿀 때 데이터 옮기기 "
   ]
  },
  {
   "cell_type": "code",
   "execution_count": 164,
   "metadata": {},
   "outputs": [],
   "source": [
    "txt_path = './mimic-recording-studio/audio_files/e19edbd5-af33-0b61-330a-54c86aa8515f/*.txt'\n",
    "wav_path = './mimic-recording-studio/audio_files/e19edbd5-af33-0b61-330a-54c86aa8515f/*.wav'\n",
    "text_list = glob.glob(txt_path)\n",
    "wav_list = glob.glob(wav_path)"
   ]
  },
  {
   "cell_type": "code",
   "execution_count": 167,
   "metadata": {},
   "outputs": [
    {
     "data": {
      "text/plain": [
       "'./mimic-recording-studio/audio_files/e19edbd5-af33-0b61-330a-54c86aa8515f\\\\0602d995131245171561d037f0189510.wav'"
      ]
     },
     "execution_count": 167,
     "metadata": {},
     "output_type": "execute_result"
    }
   ],
   "source": [
    "wav_list[0]"
   ]
  },
  {
   "cell_type": "code",
   "execution_count": 168,
   "metadata": {},
   "outputs": [
    {
     "data": {
      "text/plain": [
       "'0602d995131245171561d037f0189510.wav'"
      ]
     },
     "execution_count": 168,
     "metadata": {},
     "output_type": "execute_result"
    }
   ],
   "source": [
    "wav_list[0][wav_list[0].find('\\\\')+1:]"
   ]
  },
  {
   "cell_type": "code",
   "execution_count": 176,
   "metadata": {},
   "outputs": [
    {
     "data": {
      "text/plain": [
       "'./mimic-recording-studio/audio_files/e19edbd5-af33-0b61-330a-54c86aa8515f\\\\/rename/0602d995131245171561d037f0189510.wav'"
      ]
     },
     "execution_count": 176,
     "metadata": {},
     "output_type": "execute_result"
    }
   ],
   "source": [
    "wav_list[0][:wav_list[0].find('\\\\')+1]+'/'+new_dir+'/'+wav_list[0][wav_list[0].find('\\\\')+1:]"
   ]
  },
  {
   "cell_type": "code",
   "execution_count": 184,
   "metadata": {},
   "outputs": [],
   "source": [
    "new_dir = 'rename'\n",
    "os.mkdir('./mimic-recording-studio/audio_files/e19edbd5-af33-0b61-330a-54c86aa8515f/'+new_dir)\n",
    "for i, (txt, wav) in enumerate(zip(text_list, wav_list)):\n",
    "    new_txt_name = txt[:txt.find('\\\\')+1]+f'/{new_dir}/3dae6f5f-2e35-67ee-6114-4f379fea91e5-metadata_{i}.txt'\n",
    "    new_wav_name = wav[:wav.find('\\\\')+1]+'/'+new_dir+'/'+wav[wav.find('\\\\')+1:]\n",
    "    shutil.copy(txt, new_txt_name)\n",
    "    shutil.copy(wav, new_wav_name)"
   ]
  }
 ],
 "metadata": {
  "kernelspec": {
   "display_name": "Python 3",
   "language": "python",
   "name": "python3"
  },
  "language_info": {
   "codemirror_mode": {
    "name": "ipython",
    "version": 3
   },
   "file_extension": ".py",
   "mimetype": "text/x-python",
   "name": "python",
   "nbconvert_exporter": "python",
   "pygments_lexer": "ipython3",
   "version": "3.8.5"
  }
 },
 "nbformat": 4,
 "nbformat_minor": 4
}
